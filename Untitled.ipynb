{
 "cells": [
  {
   "cell_type": "code",
   "execution_count": 1,
   "id": "a0566270-9487-42de-a0ab-151fcada2173",
   "metadata": {},
   "outputs": [],
   "source": [
    "#pip install langchain_groq pandas pillow"
   ]
  },
  {
   "cell_type": "code",
   "execution_count": 1,
   "id": "68a7f21d-8353-4815-93d5-92b2614f4123",
   "metadata": {},
   "outputs": [],
   "source": [
    "import os\n",
    "import pandas as pd\n",
    "from PIL import Image\n",
    "from langchain_groq import ChatGroq\n",
    "from langchain_core.documents import Document"
   ]
  },
  {
   "cell_type": "code",
   "execution_count": 2,
   "id": "b0d6dee0-f5db-482d-b1e1-f84fd4f38e66",
   "metadata": {},
   "outputs": [],
   "source": [
    "from visionapikey import vision_api\n",
    "\n",
    "os.environ['GROQ_API_KEY'] = vision_api"
   ]
  },
  {
   "cell_type": "code",
   "execution_count": 3,
   "id": "578109a8-eb08-4067-a637-cefdcf389ec5",
   "metadata": {},
   "outputs": [],
   "source": [
    "llm = ChatGroq(\n",
    "    model_name=\"llama-3.2-11b-vision-preview\",\n",
    "    temperature=0,\n",
    "    groq_api_key=vision_api\n",
    ")"
   ]
  },
  {
   "cell_type": "code",
   "execution_count": 4,
   "id": "68d8d337-0180-460e-b31f-a5c45b101875",
   "metadata": {},
   "outputs": [],
   "source": [
    "image_path = '1.jpg'\n",
    "img = Image.open(image_path)\n",
    "img.show()"
   ]
  },
  {
   "cell_type": "code",
   "execution_count": 9,
   "id": "cdce484b-c863-4270-9a88-92bb2aae66ea",
   "metadata": {},
   "outputs": [],
   "source": [
    "with open(image_path, \"rb\") as img_file:\n",
    "    image_bytes = img_file.read()"
   ]
  },
  {
   "cell_type": "code",
   "execution_count": 12,
   "id": "ae05b7a4-14be-498e-a10c-afce00fea4a8",
   "metadata": {},
   "outputs": [],
   "source": [
    "import base64\n",
    "from langchain_core.messages import HumanMessage"
   ]
  },
  {
   "cell_type": "code",
   "execution_count": 15,
   "id": "dc374ac7-ea33-4334-8f95-e0ab56b708f1",
   "metadata": {},
   "outputs": [],
   "source": [
    "image_path = \"1.jpg\"\n",
    "with open(image_path, \"rb\") as img_file:\n",
    "    image_base64 = base64.b64encode(img_file.read()).decode(\"utf-8\")"
   ]
  },
  {
   "cell_type": "code",
   "execution_count": 10,
   "id": "3d998bba-334c-4b1d-a80b-f304f075121a",
   "metadata": {},
   "outputs": [],
   "source": [
    "prompt = \"\"\"Extract structured contact details from this business card image. \n",
    "If a field is missing, return 'N/A'. The output should be in JSON format with:\n",
    "- Name\n",
    "- Job Title\n",
    "- Company\n",
    "- Email\n",
    "- Phone\n",
    "- Website\n",
    "- Address\n",
    "\n",
    "Image: {image}\n",
    "\"\"\""
   ]
  },
  {
   "cell_type": "code",
   "execution_count": 13,
   "id": "fd8f14e4-09d6-45c5-8d92-2d73e297d27e",
   "metadata": {},
   "outputs": [],
   "source": [
    "prompt_text = (\n",
    "    \"Extract structured contact details from this business card image. \"\n",
    "    \"Return the result as a JSON object with these fields: \"\n",
    "    \"'Name', 'Job Title', 'Company', 'Email', 'Phone', 'Website', 'Address'. \"\n",
    "    \"If any field is missing, use 'N/A'.\"\n",
    ")"
   ]
  },
  {
   "cell_type": "code",
   "execution_count": 32,
   "id": "08f38dc1-b357-4f62-becc-22c1cd3f021f",
   "metadata": {},
   "outputs": [],
   "source": [
    "prompt_text = \"\"\"Extract contact details from this business card image and return the result as JSON. \n",
    "\n",
    "Ensure the response contains only valid JSON; NO explanations. NO PREAMBULE.\n",
    "\n",
    "Example format:\n",
    "{\n",
    "    \"Name\": \"John Doe\",\n",
    "    \"Job Title\": \"Software Engineer\",\n",
    "    \"Company\": \"TechCorp\",\n",
    "    \"Email\": \"john.doe@example.com\",\n",
    "    \"Phone\": \"123-456-7890\",\n",
    "    \"Website\": \"www.techcorp.com\",\n",
    "    \"Address\": \"123 Main St, City, Country\"\n",
    "}\n",
    "\"\"\"\n"
   ]
  },
  {
   "cell_type": "code",
   "execution_count": 33,
   "id": "e2d3818b-4500-4ce5-bb02-ba78d56ca311",
   "metadata": {},
   "outputs": [],
   "source": [
    "response = llm.invoke([\n",
    "    HumanMessage(content=[\n",
    "        {\"type\": \"text\", \"text\": prompt_text},\n",
    "        {\"type\": \"image_url\", \"image_url\": {\"url\": f\"data:image/jpeg;base64,{image_base64}\"}}\n",
    "    ])\n",
    "])"
   ]
  },
  {
   "cell_type": "code",
   "execution_count": 34,
   "id": "e4e54cae-381e-4a20-8c40-3558fa2bad42",
   "metadata": {},
   "outputs": [
    {
     "name": "stdout",
     "output_type": "stream",
     "text": [
      "{\n",
      "    \"Name\": \"First M. Lastname\",\n",
      "    \"Job Title\": \"Network Administration\",\n",
      "    \"Company\": \"Network Administration\",\n",
      "    \"Email\": \"YOURWEBSITEHERE.COM\",\n",
      "    \"Phone\": \"555.543.5432\",\n",
      "    \"Website\": \"YOURWEBSITEHERE.COM\",\n",
      "    \"Address\": \"5432 ANY STREET WEST TOWNSVILLE, ST 54321\"\n",
      "}\n"
     ]
    }
   ],
   "source": [
    "print(response.content)"
   ]
  },
  {
   "cell_type": "code",
   "execution_count": 35,
   "id": "7e3c1d43-7e99-4c9d-a9c1-aa5a005d9480",
   "metadata": {},
   "outputs": [
    {
     "name": "stdout",
     "output_type": "stream",
     "text": [
      "{'Name': 'First M. Lastname', 'Job Title': 'Network Administration', 'Company': 'Network Administration', 'Email': 'YOURWEBSITEHERE.COM', 'Phone': '555.543.5432', 'Website': 'YOURWEBSITEHERE.COM', 'Address': '5432 ANY STREET WEST TOWNSVILLE, ST 54321'}\n"
     ]
    }
   ],
   "source": [
    "import json\n",
    "\n",
    "try:\n",
    "    extracted_data = json.loads(response.content)\n",
    "except json.JSONDecodeError:\n",
    "    print(\"Error parsing JSON. LLM output:\", response)\n",
    "    extracted_data = {}\n",
    "    \n",
    "# Ensure all fields exist, filling missing ones with 'N/A'\n",
    "fields = [\"Name\", \"Job Title\", \"Company\", \"Email\", \"Phone\", \"Website\", \"Address\"]\n",
    "business_card_data = {field: extracted_data.get(field, \"N/A\") for field in fields}\n",
    "\n",
    "print(business_card_data)"
   ]
  },
  {
   "cell_type": "code",
   "execution_count": 36,
   "id": "47742fa5-bb23-438a-a7ea-843d91c3cff3",
   "metadata": {},
   "outputs": [],
   "source": [
    "csv_file = \"business_contacts.csv\"\n",
    "\n",
    "# Load existing data or create a new DataFrame\n",
    "if os.path.exists(csv_file):\n",
    "    df = pd.read_csv(csv_file)\n",
    "else:\n",
    "    df = pd.DataFrame(columns=fields)\n",
    "\n",
    "# Append new data and save\n",
    "df = pd.concat([df, pd.DataFrame([business_card_data])], ignore_index=True)\n",
    "df.to_csv(csv_file, index=False)"
   ]
  },
  {
   "cell_type": "code",
   "execution_count": null,
   "id": "091dbe41-b55b-4cf1-864d-31a3353327db",
   "metadata": {},
   "outputs": [],
   "source": []
  }
 ],
 "metadata": {
  "kernelspec": {
   "display_name": "Python 3 (ipykernel)",
   "language": "python",
   "name": "python3"
  },
  "language_info": {
   "codemirror_mode": {
    "name": "ipython",
    "version": 3
   },
   "file_extension": ".py",
   "mimetype": "text/x-python",
   "name": "python",
   "nbconvert_exporter": "python",
   "pygments_lexer": "ipython3",
   "version": "3.11.7"
  }
 },
 "nbformat": 4,
 "nbformat_minor": 5
}
